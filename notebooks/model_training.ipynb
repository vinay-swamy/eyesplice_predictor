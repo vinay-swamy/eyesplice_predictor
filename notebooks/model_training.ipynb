{
 "cells": [
  {
   "cell_type": "raw",
   "metadata": {},
   "source": [
    "train a single model on "
   ]
  },
  {
   "cell_type": "code",
   "execution_count": 18,
   "metadata": {},
   "outputs": [],
   "source": [
    "import pandas as pd\n",
    "import os\n",
    "import sys\n",
    "from sklearn.model_selection import train_test_split\n",
    "from sklearn.metrics import classification_report, confusion_matrix , roc_auc_score, roc_curve, precision_recall_curve, average_precision_score , confusion_matrix\n",
    "from xgboost import XGBClassifier\n",
    "import pickle\n",
    "import matplotlib.pyplot as plt\n",
    "import seaborn as sns\n",
    "def pre_process(path, cut_off):\n",
    "    col_names=['seqid', 'wstart','wend','ID']+list(range(80))\n",
    "    df=pd.read_csv(path, sep='\\t', header=None, names=col_names)\n",
    "    el=df[df['ID'].str.contains('EL')]\n",
    "    sl=df[df['ID'].str.contains('SL')]\n",
    "    rev_idx= ['seqid','wstart','wend','ID']+list(range(79,-1,-1))\n",
    "    sl_rev=sl.loc[:,rev_idx]\n",
    "    sl_rev.columns=col_names\n",
    "    data=pd.concat([el, sl_rev]).assign(Y= lambda x: (~x['ID'].str.contains('ref')).astype(int))\n",
    "    keep=data.loc[:,list(range(80))].sum(axis=1) >= cut_off\n",
    "    data_exp=data[keep]\n",
    "    bal=data_exp['Y'].value_counts().min()\n",
    "    data_comp=pd.concat([data_exp[data_exp['Y']==1].sample(bal, random_state=420024), data_exp[data_exp['Y']== 0].sample(bal, random_state=420024)])\n",
    "    return(data_comp)\n",
    "\n",
    "\n",
    "def ROC_plot(Y_test, Y_prob):\n",
    "    fpr, tpr, thresholds=roc_curve(Y_test, Y_prob)\n",
    "    auc=roc_auc_score(Y_test, Y_prob)\n",
    "    # Plot ROC curve\n",
    "    plt.plot(fpr, tpr, label='ROC curve (area = %0.3f)' % auc)\n",
    "    plt.plot([0, 1], [0, 1], 'k--')  # random predictions curve\n",
    "    plt.xlim([0.0, 1.0])\n",
    "    plt.ylim([0.0, 1.0])\n",
    "    plt.xlabel('False Positive Rate or (1 - Specifity)')\n",
    "    plt.ylabel('True Positive Rate or (Sensitivity)')\n",
    "    plt.title('Receiver Operating Characteristic')\n",
    "    plt.legend(loc=\"lower right\")\n",
    "    plt.show()\n",
    "def test_model(X,Y, model):\n",
    "    X_test=X\n",
    "    Y_test=Y\n",
    "    Y_pred=model.predict(X_test)\n",
    "    Y_prob=model.predict_proba(X_test)[:,1]\n",
    "    \n",
    "    roc_auc=roc_auc_score(Y_test, Y_prob)\n",
    "    cm=confusion_matrix(y_pred=Y_pred,y_true=Y_test)\n",
    "    \n",
    "    #pr_auc= average_precision_score(Y_test, Y_prob)\n",
    "    print('confusion matrix\\n')\n",
    "    print(cm)\n",
    "    print('classification_report\\n')\n",
    "    print(classification_report(y_pred=Y_pred,y_true=Y_test))\n",
    "    print('ROC-AUC: ' + str(roc_auc))\n",
    "    #print('PR-AUC: ' + str(pr_auc))\n",
    "    return(model)\n",
    "os.environ['KMP_DUPLICATE_LIB_OK']='True'\n",
    "\n",
    "\n",
    "\n",
    "\n",
    "\n",
    "def test_model_2(X,Y, model):\n",
    "    X_test=X\n",
    "    Y_test=Y\n",
    "    Y_pred=model.predict(X_test)\n",
    "    Y_prob=model.predict_proba(X_test)[:,1]\n",
    "    return(Y_test, Y_pred, Y_prob)\n",
    "    \n",
    "\n",
    "\n",
    "os.chdir('/Users/swamyvs/NIH/eyesplice_predictor/')"
   ]
  },
  {
   "cell_type": "code",
   "execution_count": 3,
   "metadata": {},
   "outputs": [],
   "source": [
    "data_1=pre_process('cleaned_cov/HM7FMBBXX_16424750_S70_bp_features.tsv.gz',80)\n",
    "data_2=pre_process('cleaned_cov/HM7MVBBXX_16424750_S72_bp_features.tsv.gz',80)\n",
    "data_3=pre_process('cleaned_cov/HM7HWBBXX_16424750_S61_bp_features.tsv.gz',80)"
   ]
  },
  {
   "cell_type": "markdown",
   "metadata": {},
   "source": [
    "Training a model on 1 sample , see how it generalizes to the others"
   ]
  },
  {
   "cell_type": "code",
   "execution_count": 4,
   "metadata": {},
   "outputs": [
    {
     "data": {
      "text/plain": [
       "XGBClassifier(base_score=0.5, booster='gbtree', colsample_bylevel=1,\n",
       "              colsample_bynode=1, colsample_bytree=1, gamma=0,\n",
       "              learning_rate=0.1, max_delta_step=0, max_depth=3,\n",
       "              min_child_weight=1, missing=None, n_estimators=100, n_jobs=1,\n",
       "              nthread=None, objective='binary:logistic', random_state=8967,\n",
       "              reg_alpha=0, reg_lambda=1, scale_pos_weight=1, seed=None,\n",
       "              silent=None, subsample=1, verbosity=1)"
      ]
     },
     "execution_count": 4,
     "metadata": {},
     "output_type": "execute_result"
    }
   ],
   "source": [
    "x_cols=list(range(80))\n",
    "X1=data_1.loc[:,x_cols]\n",
    "Y1=data_1['Y']\n",
    "X1_train, X1_test, Y1_train, Y1_test = train_test_split(X1, Y1, test_size=.3)\n",
    "model_1only=XGBClassifier(random_state=8967)\n",
    "model_1only.fit(X1_train, Y1_train)\n"
   ]
  },
  {
   "cell_type": "code",
   "execution_count": 19,
   "metadata": {},
   "outputs": [
    {
     "data": {
      "image/png": "[encoded data removed]",
      "text/plain": [
       "<Figure size 432x288 with 1 Axes>"
      ]
     },
     "metadata": {
      "needs_background": "light"
     },
     "output_type": "display_data"
    },
    {
     "name": "stdout",
     "output_type": "stream",
     "text": [
      "confusion matrix\n",
      "\n",
      "[[4580  437]\n",
      " [ 980 4050]]\n",
      "classification_report\n",
      "\n",
      "              precision    recall  f1-score   support\n",
      "\n",
      "           0       0.82      0.91      0.87      5017\n",
      "           1       0.90      0.81      0.85      5030\n",
      "\n",
      "    accuracy                           0.86     10047\n",
      "   macro avg       0.86      0.86      0.86     10047\n",
      "weighted avg       0.86      0.86      0.86     10047\n",
      "\n",
      "ROC-AUC: 0.917757418019291\n"
     ]
    },
    {
     "data": {
      "text/plain": [
       "XGBClassifier(base_score=0.5, booster='gbtree', colsample_bylevel=1,\n",
       "              colsample_bynode=1, colsample_bytree=1, gamma=0,\n",
       "              learning_rate=0.1, max_delta_step=0, max_depth=3,\n",
       "              min_child_weight=1, missing=None, n_estimators=100, n_jobs=1,\n",
       "              nthread=None, objective='binary:logistic', random_state=8967,\n",
       "              reg_alpha=0, reg_lambda=1, scale_pos_weight=1, seed=None,\n",
       "              silent=None, subsample=1, verbosity=1)"
      ]
     },
     "execution_count": 19,
     "metadata": {},
     "output_type": "execute_result"
    },
    {
     "data": {
      "image/png": "[encoded data removed]",
      "text/plain": [
       "<Figure size 432x288 with 2 Axes>"
      ]
     },
     "metadata": {
      "needs_background": "light"
     },
     "output_type": "display_data"
    }
   ],
   "source": [
    "%matplotlib inline\n",
    "test_model(X1_test, Y1_test, model_1only)"
   ]
  },
  {
   "cell_type": "markdown",
   "metadata": {},
   "source": [
    "Testing on other samples"
   ]
  },
  {
   "cell_type": "code",
   "execution_count": 10,
   "metadata": {},
   "outputs": [
    {
     "name": "stdout",
     "output_type": "stream",
     "text": [
      "(33302, 85)\n",
      "confusion matrix\n",
      "\n",
      "[[15110  1541]\n",
      " [ 3503 13148]]\n",
      "classification_report\n",
      "\n",
      "              precision    recall  f1-score   support\n",
      "\n",
      "           0       0.81      0.91      0.86     16651\n",
      "           1       0.90      0.79      0.84     16651\n",
      "\n",
      "   micro avg       0.85      0.85      0.85     33302\n",
      "   macro avg       0.85      0.85      0.85     33302\n",
      "weighted avg       0.85      0.85      0.85     33302\n",
      "\n",
      "ROC-AUC: 0.9107097474220206\n",
      "PR-AUC: 0.9235333753985255\n"
     ]
    },
    {
     "data": {
      "text/plain": [
       "XGBClassifier(base_score=0.5, booster='gbtree', colsample_bylevel=1,\n",
       "       colsample_bynode=1, colsample_bytree=1, gamma=0, learning_rate=0.1,\n",
       "       max_delta_step=0, max_depth=3, min_child_weight=1, missing=None,\n",
       "       n_estimators=100, n_jobs=1, nthread=None,\n",
       "       objective='binary:logistic', random_state=8967, reg_alpha=0,\n",
       "       reg_lambda=1, scale_pos_weight=1, seed=None, silent=None,\n",
       "       subsample=1, verbosity=1)"
      ]
     },
     "execution_count": 10,
     "metadata": {},
     "output_type": "execute_result"
    }
   ],
   "source": [
    "print(data_2.shape)\n",
    "X2=data_2.loc[:,x_cols]\n",
    "Y2=data_2['Y']\n",
    "test_model(X2, Y2, model_1only)\n"
   ]
  },
  {
   "cell_type": "code",
   "execution_count": 11,
   "metadata": {},
   "outputs": [
    {
     "name": "stdout",
     "output_type": "stream",
     "text": [
      "(35734, 85)\n",
      "confusion matrix\n",
      "\n",
      "[[15801  2066]\n",
      " [ 3497 14370]]\n",
      "classification_report\n",
      "\n",
      "              precision    recall  f1-score   support\n",
      "\n",
      "           0       0.82      0.88      0.85     17867\n",
      "           1       0.87      0.80      0.84     17867\n",
      "\n",
      "   micro avg       0.84      0.84      0.84     35734\n",
      "   macro avg       0.85      0.84      0.84     35734\n",
      "weighted avg       0.85      0.84      0.84     35734\n",
      "\n",
      "ROC-AUC: 0.9099759107931844\n",
      "PR-AUC: 0.9183182674019655\n"
     ]
    },
    {
     "data": {
      "text/plain": [
       "XGBClassifier(base_score=0.5, booster='gbtree', colsample_bylevel=1,\n",
       "       colsample_bynode=1, colsample_bytree=1, gamma=0, learning_rate=0.1,\n",
       "       max_delta_step=0, max_depth=3, min_child_weight=1, missing=None,\n",
       "       n_estimators=100, n_jobs=1, nthread=None,\n",
       "       objective='binary:logistic', random_state=8967, reg_alpha=0,\n",
       "       reg_lambda=1, scale_pos_weight=1, seed=None, silent=None,\n",
       "       subsample=1, verbosity=1)"
      ]
     },
     "execution_count": 11,
     "metadata": {},
     "output_type": "execute_result"
    }
   ],
   "source": [
    "print(data_3.shape)\n",
    "X3=data_3.loc[:,x_cols]\n",
    "Y3=data_3['Y']\n",
    "test_model(X3, Y3, model_1only)"
   ]
  },
  {
   "cell_type": "markdown",
   "metadata": {},
   "source": [
    "Now merging all three to see if we get better results "
   ]
  },
  {
   "cell_type": "code",
   "execution_count": null,
   "metadata": {},
   "outputs": [],
   "source": [
    "all_data=pd.concat([data_1, data_2, data_3])\n",
    "all_data.shape"
   ]
  },
  {
   "cell_type": "code",
   "execution_count": 16,
   "metadata": {},
   "outputs": [
    {
     "name": "stdout",
     "output_type": "stream",
     "text": [
      "confusion matrix\n",
      "\n",
      "[[13797  1520]\n",
      " [ 3181 12260]]\n",
      "classification_report\n",
      "\n",
      "              precision    recall  f1-score   support\n",
      "\n",
      "           0       0.81      0.90      0.85     15317\n",
      "           1       0.89      0.79      0.84     15441\n",
      "\n",
      "   micro avg       0.85      0.85      0.85     30758\n",
      "   macro avg       0.85      0.85      0.85     30758\n",
      "weighted avg       0.85      0.85      0.85     30758\n",
      "\n",
      "ROC-AUC: 0.9119909079284355\n",
      "PR-AUC: 0.9238342847326821\n"
     ]
    },
    {
     "data": {
      "text/plain": [
       "XGBClassifier(base_score=0.5, booster='gbtree', colsample_bylevel=1,\n",
       "       colsample_bynode=1, colsample_bytree=1, gamma=0, learning_rate=0.1,\n",
       "       max_delta_step=0, max_depth=3, min_child_weight=1, missing=None,\n",
       "       n_estimators=100, n_jobs=1, nthread=None,\n",
       "       objective='binary:logistic', random_state=3434, reg_alpha=0,\n",
       "       reg_lambda=1, scale_pos_weight=1, seed=None, silent=None,\n",
       "       subsample=1, verbosity=1)"
      ]
     },
     "execution_count": 16,
     "metadata": {},
     "output_type": "execute_result"
    }
   ],
   "source": [
    "all_data['Y'].value_counts()\n",
    "XA=all_data.loc[:,x_cols]\n",
    "YA=all_data['Y']\n",
    "XA_train, XA_test, YA_train, YA_test=train_test_split(XA, YA, test_size=.3)\n",
    "model_all=XGBClassifier(random_state=3434)\n",
    "model_all.fit(XA_train, YA_train)\n",
    "test_model(XA_test, YA_test, model_all)\n"
   ]
  },
  {
   "cell_type": "markdown",
   "metadata": {},
   "source": [
    "So slightly better than the single sample one, probably no worth it.\n"
   ]
  }
 ],
 "metadata": {
  "kernelspec": {
   "display_name": "Python 3",
   "language": "python",
   "name": "python3"
  },
  "language_info": {
   "codemirror_mode": {
    "name": "ipython",
    "version": 3
   },
   "file_extension": ".py",
   "mimetype": "text/x-python",
   "name": "python",
   "nbconvert_exporter": "python",
   "pygments_lexer": "ipython3",
   "version": "3.7.3"
  }
 },
 "nbformat": 4,
 "nbformat_minor": 4
}
