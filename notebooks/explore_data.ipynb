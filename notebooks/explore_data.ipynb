{
 "cells": [
  {
   "cell_type": "code",
   "execution_count": 53,
   "metadata": {},
   "outputs": [],
   "source": [
    "import pandas as pd\n",
    "import os\n",
    "import numpy as np\n",
    "# add reading window size as part of code\n",
    "wsize=80\n",
    "%matplotlib inline\n",
    "os.chdir('/Users/vinayswamy/NIH/eyesplice_predictor/')\n",
    "pd.core.common.random_state(None)\n",
    "np.random.seed(8123)\n"
   ]
  },
  {
   "cell_type": "code",
   "execution_count": 25,
   "metadata": {},
   "outputs": [],
   "source": [
    "col_names=['seqid', 'wstart','wend','ID']+list(range(80))\n",
    "c_cols=list(range(80))\n",
    "df=pd.read_csv('data/cleaned_cov/SRS2305609_bp_features.tsv.gz', \n",
    "               sep='\\t', header=None, names=col_names)"
   ]
  },
  {
   "cell_type": "code",
   "execution_count": 26,
   "metadata": {},
   "outputs": [
    {
     "data": {
      "text/plain": [
       "(118713, 84)"
      ]
     },
     "execution_count": 26,
     "metadata": {},
     "output_type": "execute_result"
    }
   ],
   "source": [
    "df.shape"
   ]
  },
  {
   "cell_type": "code",
   "execution_count": 10,
   "metadata": {},
   "outputs": [
    {
     "data": {
      "text/html": [
       "<div>\n",
       "<style scoped>\n",
       "    .dataframe tbody tr th:only-of-type {\n",
       "        vertical-align: middle;\n",
       "    }\n",
       "\n",
       "    .dataframe tbody tr th {\n",
       "        vertical-align: top;\n",
       "    }\n",
       "\n",
       "    .dataframe thead th {\n",
       "        text-align: right;\n",
       "    }\n",
       "</style>\n",
       "<table border=\"1\" class=\"dataframe\">\n",
       "  <thead>\n",
       "    <tr style=\"text-align: right;\">\n",
       "      <th></th>\n",
       "      <th>seqid</th>\n",
       "      <th>wstart</th>\n",
       "      <th>wend</th>\n",
       "      <th>ID</th>\n",
       "      <th>0</th>\n",
       "      <th>1</th>\n",
       "      <th>2</th>\n",
       "      <th>3</th>\n",
       "      <th>4</th>\n",
       "      <th>5</th>\n",
       "      <th>...</th>\n",
       "      <th>70</th>\n",
       "      <th>71</th>\n",
       "      <th>72</th>\n",
       "      <th>73</th>\n",
       "      <th>74</th>\n",
       "      <th>75</th>\n",
       "      <th>76</th>\n",
       "      <th>77</th>\n",
       "      <th>78</th>\n",
       "      <th>79</th>\n",
       "    </tr>\n",
       "  </thead>\n",
       "  <tbody>\n",
       "    <tr>\n",
       "      <th>0</th>\n",
       "      <td>chr1</td>\n",
       "      <td>12139</td>\n",
       "      <td>12219</td>\n",
       "      <td>SL_0</td>\n",
       "      <td>1</td>\n",
       "      <td>1</td>\n",
       "      <td>1</td>\n",
       "      <td>1</td>\n",
       "      <td>1</td>\n",
       "      <td>1</td>\n",
       "      <td>...</td>\n",
       "      <td>1</td>\n",
       "      <td>1</td>\n",
       "      <td>1</td>\n",
       "      <td>1</td>\n",
       "      <td>1</td>\n",
       "      <td>1</td>\n",
       "      <td>0</td>\n",
       "      <td>0</td>\n",
       "      <td>0</td>\n",
       "      <td>0</td>\n",
       "    </tr>\n",
       "    <tr>\n",
       "      <th>1</th>\n",
       "      <td>chr1</td>\n",
       "      <td>13334</td>\n",
       "      <td>13414</td>\n",
       "      <td>EL_0</td>\n",
       "      <td>1</td>\n",
       "      <td>1</td>\n",
       "      <td>1</td>\n",
       "      <td>1</td>\n",
       "      <td>1</td>\n",
       "      <td>2</td>\n",
       "      <td>...</td>\n",
       "      <td>1</td>\n",
       "      <td>1</td>\n",
       "      <td>1</td>\n",
       "      <td>1</td>\n",
       "      <td>1</td>\n",
       "      <td>1</td>\n",
       "      <td>1</td>\n",
       "      <td>1</td>\n",
       "      <td>1</td>\n",
       "      <td>1</td>\n",
       "    </tr>\n",
       "    <tr>\n",
       "      <th>2</th>\n",
       "      <td>chr1</td>\n",
       "      <td>14420</td>\n",
       "      <td>14500</td>\n",
       "      <td>exon_7</td>\n",
       "      <td>9</td>\n",
       "      <td>9</td>\n",
       "      <td>9</td>\n",
       "      <td>9</td>\n",
       "      <td>9</td>\n",
       "      <td>9</td>\n",
       "      <td>...</td>\n",
       "      <td>131</td>\n",
       "      <td>131</td>\n",
       "      <td>136</td>\n",
       "      <td>136</td>\n",
       "      <td>138</td>\n",
       "      <td>138</td>\n",
       "      <td>138</td>\n",
       "      <td>138</td>\n",
       "      <td>138</td>\n",
       "      <td>139</td>\n",
       "    </tr>\n",
       "    <tr>\n",
       "      <th>3</th>\n",
       "      <td>chr1</td>\n",
       "      <td>16669</td>\n",
       "      <td>16749</td>\n",
       "      <td>exon_6</td>\n",
       "      <td>10</td>\n",
       "      <td>10</td>\n",
       "      <td>10</td>\n",
       "      <td>10</td>\n",
       "      <td>10</td>\n",
       "      <td>8</td>\n",
       "      <td>...</td>\n",
       "      <td>117</td>\n",
       "      <td>119</td>\n",
       "      <td>121</td>\n",
       "      <td>121</td>\n",
       "      <td>121</td>\n",
       "      <td>122</td>\n",
       "      <td>122</td>\n",
       "      <td>122</td>\n",
       "      <td>122</td>\n",
       "      <td>122</td>\n",
       "    </tr>\n",
       "    <tr>\n",
       "      <th>4</th>\n",
       "      <td>chr1</td>\n",
       "      <td>17246</td>\n",
       "      <td>17326</td>\n",
       "      <td>exon_5</td>\n",
       "      <td>354</td>\n",
       "      <td>390</td>\n",
       "      <td>390</td>\n",
       "      <td>407</td>\n",
       "      <td>401</td>\n",
       "      <td>404</td>\n",
       "      <td>...</td>\n",
       "      <td>380</td>\n",
       "      <td>391</td>\n",
       "      <td>385</td>\n",
       "      <td>420</td>\n",
       "      <td>419</td>\n",
       "      <td>418</td>\n",
       "      <td>414</td>\n",
       "      <td>417</td>\n",
       "      <td>413</td>\n",
       "      <td>414</td>\n",
       "    </tr>\n",
       "  </tbody>\n",
       "</table>\n",
       "<p>5 rows × 84 columns</p>\n",
       "</div>"
      ],
      "text/plain": [
       "  seqid  wstart   wend      ID    0    1    2    3    4    5  ...   70   71  \\\n",
       "0  chr1   12139  12219    SL_0    1    1    1    1    1    1  ...    1    1   \n",
       "1  chr1   13334  13414    EL_0    1    1    1    1    1    2  ...    1    1   \n",
       "2  chr1   14420  14500  exon_7    9    9    9    9    9    9  ...  131  131   \n",
       "3  chr1   16669  16749  exon_6   10   10   10   10   10    8  ...  117  119   \n",
       "4  chr1   17246  17326  exon_5  354  390  390  407  401  404  ...  380  391   \n",
       "\n",
       "    72   73   74   75   76   77   78   79  \n",
       "0    1    1    1    1    0    0    0    0  \n",
       "1    1    1    1    1    1    1    1    1  \n",
       "2  136  136  138  138  138  138  138  139  \n",
       "3  121  121  121  122  122  122  122  122  \n",
       "4  385  420  419  418  414  417  413  414  \n",
       "\n",
       "[5 rows x 84 columns]"
      ]
     },
     "execution_count": 10,
     "metadata": {},
     "output_type": "execute_result"
    }
   ],
   "source": [
    "df.head()"
   ]
  },
  {
   "cell_type": "code",
   "execution_count": 18,
   "metadata": {},
   "outputs": [
    {
     "data": {
      "text/plain": [
       "3    33918\n",
       "2    33918\n",
       "1    33918\n",
       "0    16959\n",
       "dtype: int64"
      ]
     },
     "execution_count": 18,
     "metadata": {},
     "output_type": "execute_result"
    }
   ],
   "source": [
    "df['ID'].str.replace('\\d+','').unique()\n",
    "\n",
    "\n",
    "\n",
    "pd.Series(lab_col).value_counts()"
   ]
  },
  {
   "cell_type": "code",
   "execution_count": 50,
   "metadata": {},
   "outputs": [],
   "source": [
    "'''\n",
    "need to do 3 things - reverse the SL columns,make label column, and remove low count features\n",
    "for removing low counts, going to switch to doing it  piece by piece\n",
    "'''\n",
    "sl=df[df['ID'].str.contains('SL')].reset_index(drop=True)\n",
    "el=df[df['ID'].str.contains('EL')].reset_index(drop=True)\n",
    "intron=df[df['ID'].str.contains('intron')].reset_index(drop=True)\n",
    "exon=df[df['ID'].str.contains('exon')].reset_index(drop=True)\n",
    "rev_idx= ['seqid','wstart','wend','ID']+list(range(79,-1,-1))\n",
    "sl_rev=sl.loc[:,rev_idx]\n",
    "sl_rev.columns=col_names\n",
    "all_junc=pd.concat([el, sl_rev]).reset_index(drop=True)\n",
    "keep_junc=all_junc.loc[:, c_cols].sum(axis=1) >=80\n",
    "all_junc=all_junc[keep_junc]\n",
    "keep_exon=exon.loc[:,c_cols].sum(axis=1) >=80\n",
    "exon=exon[keep_exon]\n",
    "intron_sums=intron.loc[:,c_cols].sum(axis=1)\n",
    "intron_sums.quantile([.1,.2,.3,.4,.6,.7,.8,.9, 1])# mjority are 0, but i'll keep it up till 20 for sake of completeness.\n",
    "keep_intron=intron_sums <= 20\n",
    "intron=intron[keep_intron]\n",
    "\n",
    "min_count= min(all_junc.ID.str.contains('ref').sum(),\n",
    "              all_junc.shape[0]-all_junc.ID.str.contains('ref').sum() ,\n",
    "              intron.shape[0],\n",
    "              exon.shape[0])\n",
    "complete_data=pd.concat([all_junc[all_junc['ID'].str.contains('ref')].sample(min_count, ),\n",
    "                         all_junc[~all_junc['ID'].str.contains('ref')].sample(min_count),\n",
    "                         intron.sample(min_count),\n",
    "                         exon.sample(min_count)\n",
    "                        ]).reset_index()\n",
    "\n",
    "lab_col=list()\n",
    "'''\n",
    "0=alt_splice junctino\n",
    "1=no_splice junction\n",
    "2=exon\n",
    "3=not exon\n",
    "'''\n",
    "for lab in complete_data['ID']:\n",
    "    if 'intron' in lab:\n",
    "        lab_col.append(3)\n",
    "    elif 'exon' in lab:\n",
    "        lab_col.append(2)\n",
    "    elif 'ref' in lab:\n",
    "        lab_col.append(1)\n",
    "    else:\n",
    "        lab_col.append(0)\n",
    "\n",
    "complete_data['Y']=lab_col\n"
   ]
  },
  {
   "cell_type": "code",
   "execution_count": 51,
   "metadata": {},
   "outputs": [
    {
     "data": {
      "text/plain": [
       "3    11732\n",
       "2    11732\n",
       "1    11732\n",
       "0    11732\n",
       "Name: Y, dtype: int64"
      ]
     },
     "execution_count": 51,
     "metadata": {},
     "output_type": "execute_result"
    }
   ],
   "source": [
    "complete_data['Y'].value_counts()"
   ]
  },
  {
   "cell_type": "code",
   "execution_count": 56,
   "metadata": {},
   "outputs": [],
   "source": [
    "# above wrapped into a function for multiple sample use.\n",
    "def pre_process(path, cut_off=wsize):\n",
    "    col_names=['seqid', 'wstart','wend','ID']+list(range(80))\n",
    "    c_cols=list(range(80))\n",
    "    df=pd.read_csv(path, sep='\\t', header=None, names=col_names)\n",
    "    sl=df[df['ID'].str.contains('SL')].reset_index(drop=True)\n",
    "    el=df[df['ID'].str.contains('EL')].reset_index(drop=True)\n",
    "    intron=df[df['ID'].str.contains('intron')].reset_index(drop=True)\n",
    "    exon=df[df['ID'].str.contains('exon')].reset_index(drop=True)\n",
    "    rev_idx= ['seqid','wstart','wend','ID']+list(range(79,-1,-1))\n",
    "    sl_rev=sl.loc[:,rev_idx]\n",
    "    sl_rev.columns=col_names\n",
    "    all_junc=pd.concat([el, sl_rev]).reset_index(drop=True)\n",
    "    keep_junc=all_junc.loc[:, c_cols].sum(axis=1) >=80\n",
    "    all_junc=all_junc[keep_junc]\n",
    "    keep_exon=exon.loc[:,c_cols].sum(axis=1) >=80\n",
    "    exon=exon[keep_exon]\n",
    "    intron_sums=intron.loc[:,c_cols].sum(axis=1)\n",
    "    intron_sums.quantile([.1,.2,.3,.4,.6,.7,.8,.9, 1])# majority are 0, but i'll keep it up till 20 for sake of completeness.\n",
    "    keep_intron=intron_sums <= 20\n",
    "    intron=intron[keep_intron]\n",
    "\n",
    "    min_count= min(all_junc.ID.str.contains('ref').sum(),\n",
    "                  all_junc.shape[0]-all_junc.ID.str.contains('ref').sum() ,\n",
    "                  intron.shape[0],\n",
    "                  exon.shape[0])\n",
    "    complete_data=pd.concat([all_junc[all_junc['ID'].str.contains('ref')].sample(min_count, ),\n",
    "                             all_junc[~all_junc['ID'].str.contains('ref')].sample(min_count),\n",
    "                             intron.sample(min_count),\n",
    "                             exon.sample(min_count)\n",
    "                            ]).reset_index(drop=True)\n",
    "\n",
    "    lab_col=list()\n",
    "    '''\n",
    "    0=alt_splice junctino\n",
    "    1=no_splice junction\n",
    "    2=exon\n",
    "    3=not exon\n",
    "    '''\n",
    "    for lab in complete_data['ID']:\n",
    "        if 'intron' in lab:\n",
    "            lab_col.append(3)\n",
    "        elif 'exon' in lab:\n",
    "            lab_col.append(2)\n",
    "        elif 'ref' in lab:\n",
    "            lab_col.append(1)\n",
    "        else:\n",
    "            lab_col.append(0)\n",
    "\n",
    "    complete_data['Y']=lab_col\n",
    "    return(complete_data)"
   ]
  },
  {
   "cell_type": "code",
   "execution_count": 57,
   "metadata": {},
   "outputs": [],
   "source": [
    "data_1=pre_process('data/cleaned_cov/SRS2305609_bp_features.tsv.gz')\n",
    "data_2=pre_process('data/cleaned_cov/SRS524515_bp_features.tsv.gz')\n",
    "data_3=pre_process('data/cleaned_cov/HM7FMBBXX_16424741_S61_bp_features.tsv.gz')"
   ]
  },
  {
   "cell_type": "code",
   "execution_count": 59,
   "metadata": {},
   "outputs": [],
   "source": [
    "from sklearn.decomposition import PCA\n",
    "import matplotlib.pyplot as plt\n",
    "import seaborn as sns"
   ]
  },
  {
   "cell_type": "code",
   "execution_count": 60,
   "metadata": {},
   "outputs": [],
   "source": [
    "x_cols=list(range(80))\n",
    "X=data_1.loc[:,x_cols]\n",
    "Y=data_1['Y']\n",
    "pca=PCA(n_components=2)\n",
    "pcmat=pca.fit_transform(X)\n",
    "drX=pd.DataFrame(data=pcmat ,columns=['PC1', 'PC2']).assign(lab=Y)"
   ]
  },
  {
   "cell_type": "code",
   "execution_count": 66,
   "metadata": {},
   "outputs": [
    {
     "data": {
      "text/plain": [
       "<matplotlib.axes._subplots.AxesSubplot at 0x1326b2940>"
      ]
     },
     "execution_count": 66,
     "metadata": {},
     "output_type": "execute_result"
    },
    {
     "data": {
      "image/png": "[encoded data removed]",
      "text/plain": [
       "<Figure size 720x720 with 1 Axes>"
      ]
     },
     "metadata": {
      "needs_background": "light"
     },
     "output_type": "display_data"
    }
   ],
   "source": [
    "%matplotlib inline\n",
    "plt.figure(figsize=(10,10))\n",
    "sns.scatterplot(data=drX, x='PC1', y='PC2', hue='lab', alpha=.4)"
   ]
  },
  {
   "cell_type": "code",
   "execution_count": 67,
   "metadata": {},
   "outputs": [
    {
     "data": {
      "text/plain": [
       "array([0.90865101, 0.06839068])"
      ]
     },
     "execution_count": 67,
     "metadata": {},
     "output_type": "execute_result"
    }
   ],
   "source": [
    "pca.explained_variance_ratio_"
   ]
  },
  {
   "cell_type": "markdown",
   "metadata": {},
   "source": [
    "PCA does not look that great,and I didn't boff the labels/ orientation, which leads me to ask, do we really need bp level info? may haps just the averages will work."
   ]
  },
  {
   "cell_type": "code",
   "execution_count": 98,
   "metadata": {},
   "outputs": [],
   "source": [
    "from sklearn.ensemble import RandomForestClassifier\n",
    "from sklearn.neighbors import KNeighborsClassifier\n",
    "from sklearn.model_selection import train_test_split\n",
    "from sklearn.metrics import classification_report, confusion_matrix , roc_auc_score, roc_curve, precision_recall_curve, average_precision_score\n",
    "from xgboost import XGBClassifier\n",
    "import pandas_ml as pml\n",
    "\n",
    "def ROC_plot(Y_test, Y_prob):\n",
    "    fpr, tpr, thresholds=roc_curve(Y_test, Y_prob)\n",
    "    auc=roc_auc_score(Y_test, Y_prob)\n",
    "    # Plot ROC curve\n",
    "    plt.plot(fpr, tpr, label='ROC curve (area = %0.3f)' % auc)\n",
    "    plt.plot([0, 1], [0, 1], 'k--')  # random predictions curve\n",
    "    plt.xlim([0.0, 1.0])\n",
    "    plt.ylim([0.0, 1.0])\n",
    "    plt.xlabel('False Positive Rate or (1 - Specifity)')\n",
    "    plt.ylabel('True Positive Rate or (Sensitivity)')\n",
    "    plt.title('Receiver Operating Characteristic')\n",
    "    plt.legend(loc=\"lower right\")\n",
    "    plt.show()\n",
    "def PR_plot(Y_test, Y_prob):\n",
    "    pre, rec, thresholds = precision_recall_curve(Y_test, Y_prob)\n",
    "    auc = average_precision_score(Y_test, Y_prob)\n",
    "    plt.plot(rec, pre, label=' Prec/Rec (area = %0.2f)' % ( auc))\n",
    "    plt.plot([1, 1], [1, 1],'r--')\n",
    "    plt.xlim([0.0, 1.0])\n",
    "    plt.ylim([0.0, 1.05])\n",
    "    plt.xlabel('Recall')\n",
    "    plt.ylabel('Precision')\n",
    "    plt.title('')\n",
    "    plt.legend(loc=\"lower right\")\n",
    "    plt.show()   \n",
    "\n",
    "def train_model(X,Y, model):\n",
    "    X_train, X_test, Y_train, Y_test = train_test_split(X,Y, test_size=.3, random_state=8976, stratify=Y)\n",
    "    model.fit(X_train, Y_train)\n",
    "    Y_pred=model.predict(X_test)\n",
    "    Y_prob=model.predict_proba(X_test)[:,1]\n",
    "    labs=model.classes_\n",
    "    print('confusion matrix\\n\\n')\n",
    "    print(pd.DataFrame(confusion_matrix(Y_test, Y_pred), index=labs, columns=labs))\n",
    "    print('\\n\\nclassification report\\n\\n')\n",
    "    print(classification_report(y_pred=Y_pred,y_true=Y_test))\n",
    "    #ROC_plot(Y_test , Y_prob)\n",
    "    #PR_plot(Y_test,Y_prob)\n",
    "    return(model)"
   ]
  },
  {
   "cell_type": "code",
   "execution_count": 99,
   "metadata": {},
   "outputs": [
    {
     "name": "stdout",
     "output_type": "stream",
     "text": [
      "confusion matrix\n",
      "\n",
      "\n",
      "      0     1     2     3\n",
      "0  1482   637  1401     0\n",
      "1   649  1593  1278     0\n",
      "2   755   169  2596     0\n",
      "3     0     0     0  3519\n",
      "\n",
      "\n",
      "classification report\n",
      "\n",
      "\n",
      "              precision    recall  f1-score   support\n",
      "\n",
      "           0       0.51      0.42      0.46      3520\n",
      "           1       0.66      0.45      0.54      3520\n",
      "           2       0.49      0.74      0.59      3520\n",
      "           3       1.00      1.00      1.00      3519\n",
      "\n",
      "    accuracy                           0.65     14079\n",
      "   macro avg       0.67      0.65      0.65     14079\n",
      "weighted avg       0.67      0.65      0.65     14079\n",
      "\n"
     ]
    }
   ],
   "source": [
    "model=XGBClassifier(random_state=2234)\n",
    "model_names=['Random Forest', 'XGBC', 'KNN']\n",
    "X_1=data_1.loc[:,x_cols]\n",
    "Y_1=data_1['Y']\n",
    "trained_model= train_model(X_1, Y_1, model)\n",
    "# Y_1.value_counts()\n",
    "# X_train, X_test, Y_train, Y_test = train_test_split(X_1,Y_1, test_size=.3, random_state=8976, stratify=Y_1)\n",
    "# model.fit(X_train, Y_train)\n"
   ]
  },
  {
   "cell_type": "code",
   "execution_count": 104,
   "metadata": {},
   "outputs": [
    {
     "name": "stdout",
     "output_type": "stream",
     "text": [
      "confusion matrix\n",
      "\n",
      "\n",
      "      0     1\n",
      "0  1526   920\n",
      "1   912  1534\n",
      "\n",
      "\n",
      "classification report\n",
      "\n",
      "\n",
      "              precision    recall  f1-score   support\n",
      "\n",
      "           0       0.63      0.62      0.62      2446\n",
      "           1       0.63      0.63      0.63      2446\n",
      "\n",
      "    accuracy                           0.63      4892\n",
      "   macro avg       0.63      0.63      0.63      4892\n",
      "weighted avg       0.63      0.63      0.63      4892\n",
      "\n"
     ]
    }
   ],
   "source": [
    "'''\n",
    "okay well thats clearly not working\n",
    "it can easily pick out an exon, but makes sense that the distinction between half an exon and a whole exon vs an alt splice exon is not that clear, so we'll try a couple of things\n",
    "-log transform\n",
    "-separate clases and retrain\n",
    "-prune training data a little more, but I'm hesitant to do this cause It'll overfit the model\n",
    "'''\n",
    "juncs=data_2.query('Y == 0 | Y==1')\n",
    "model=XGBClassifier(random_state=2234)\n",
    "X_j=juncs.loc[:,x_cols]\n",
    "Y_j=juncs['Y']\n",
    "m=train_model(X_j, Y_j, model)"
   ]
  },
  {
   "cell_type": "code",
   "execution_count": null,
   "metadata": {},
   "outputs": [],
   "source": []
  }
 ],
 "metadata": {
  "kernelspec": {
   "display_name": "Python [conda env:esp_pyenv]",
   "language": "python",
   "name": "conda-env-esp_pyenv-py"
  },
  "language_info": {
   "codemirror_mode": {
    "name": "ipython",
    "version": 3
   },
   "file_extension": ".py",
   "mimetype": "text/x-python",
   "name": "python",
   "nbconvert_exporter": "python",
   "pygments_lexer": "ipython3",
   "version": "3.6.5"
  }
 },
 "nbformat": 4,
 "nbformat_minor": 2
}
