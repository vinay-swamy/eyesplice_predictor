{
 "cells": [
  {
   "cell_type": "code",
   "execution_count": 36,
   "metadata": {},
   "outputs": [],
   "source": [
    "import pandas as pd\n",
    "import os\n",
    "# add reading window size as part of code\n",
    "wsize=80\n",
    "%matplotlib inline\n",
    "os.chdir('/Users/vinayswamy/NIH/eyesplice_predictor/')"
   ]
  },
  {
   "cell_type": "code",
   "execution_count": 2,
   "metadata": {},
   "outputs": [],
   "source": [
    "col_names=['seqid', 'wstart','wend','ID']+list(range(80))\n",
    "df=pd.read_csv('data/cleaned/HM7FMBBXX_16424750_S70_bp_features.tsv', sep='\\t', header=None, names=col_names)"
   ]
  },
  {
   "cell_type": "code",
   "execution_count": 3,
   "metadata": {},
   "outputs": [
    {
     "data": {
      "text/plain": [
       "(60246, 84)"
      ]
     },
     "execution_count": 3,
     "metadata": {},
     "output_type": "execute_result"
    }
   ],
   "source": [
    "df.shape"
   ]
  },
  {
   "cell_type": "code",
   "execution_count": 4,
   "metadata": {},
   "outputs": [
    {
     "data": {
      "text/html": [
       "<div>\n",
       "<style scoped>\n",
       "    .dataframe tbody tr th:only-of-type {\n",
       "        vertical-align: middle;\n",
       "    }\n",
       "\n",
       "    .dataframe tbody tr th {\n",
       "        vertical-align: top;\n",
       "    }\n",
       "\n",
       "    .dataframe thead th {\n",
       "        text-align: right;\n",
       "    }\n",
       "</style>\n",
       "<table border=\"1\" class=\"dataframe\">\n",
       "  <thead>\n",
       "    <tr style=\"text-align: right;\">\n",
       "      <th></th>\n",
       "      <th>seqid</th>\n",
       "      <th>wstart</th>\n",
       "      <th>wend</th>\n",
       "      <th>ID</th>\n",
       "      <th>0</th>\n",
       "      <th>1</th>\n",
       "      <th>2</th>\n",
       "      <th>3</th>\n",
       "      <th>4</th>\n",
       "      <th>5</th>\n",
       "      <th>...</th>\n",
       "      <th>70</th>\n",
       "      <th>71</th>\n",
       "      <th>72</th>\n",
       "      <th>73</th>\n",
       "      <th>74</th>\n",
       "      <th>75</th>\n",
       "      <th>76</th>\n",
       "      <th>77</th>\n",
       "      <th>78</th>\n",
       "      <th>79</th>\n",
       "    </tr>\n",
       "  </thead>\n",
       "  <tbody>\n",
       "    <tr>\n",
       "      <th>0</th>\n",
       "      <td>chr1</td>\n",
       "      <td>17702</td>\n",
       "      <td>17782</td>\n",
       "      <td>ref_EL_172731</td>\n",
       "      <td>78</td>\n",
       "      <td>77</td>\n",
       "      <td>77</td>\n",
       "      <td>78</td>\n",
       "      <td>77</td>\n",
       "      <td>76</td>\n",
       "      <td>...</td>\n",
       "      <td>3</td>\n",
       "      <td>3</td>\n",
       "      <td>3</td>\n",
       "      <td>3</td>\n",
       "      <td>3</td>\n",
       "      <td>3</td>\n",
       "      <td>3</td>\n",
       "      <td>3</td>\n",
       "      <td>3</td>\n",
       "      <td>3</td>\n",
       "    </tr>\n",
       "    <tr>\n",
       "      <th>1</th>\n",
       "      <td>chr1</td>\n",
       "      <td>91589</td>\n",
       "      <td>91669</td>\n",
       "      <td>ref_EL_81828</td>\n",
       "      <td>0</td>\n",
       "      <td>0</td>\n",
       "      <td>0</td>\n",
       "      <td>0</td>\n",
       "      <td>0</td>\n",
       "      <td>0</td>\n",
       "      <td>...</td>\n",
       "      <td>0</td>\n",
       "      <td>0</td>\n",
       "      <td>0</td>\n",
       "      <td>0</td>\n",
       "      <td>0</td>\n",
       "      <td>0</td>\n",
       "      <td>0</td>\n",
       "      <td>0</td>\n",
       "      <td>0</td>\n",
       "      <td>0</td>\n",
       "    </tr>\n",
       "    <tr>\n",
       "      <th>2</th>\n",
       "      <td>chr1</td>\n",
       "      <td>135855</td>\n",
       "      <td>135935</td>\n",
       "      <td>ref_EL_89286</td>\n",
       "      <td>30</td>\n",
       "      <td>30</td>\n",
       "      <td>30</td>\n",
       "      <td>31</td>\n",
       "      <td>31</td>\n",
       "      <td>31</td>\n",
       "      <td>...</td>\n",
       "      <td>13</td>\n",
       "      <td>10</td>\n",
       "      <td>10</td>\n",
       "      <td>8</td>\n",
       "      <td>8</td>\n",
       "      <td>8</td>\n",
       "      <td>8</td>\n",
       "      <td>8</td>\n",
       "      <td>8</td>\n",
       "      <td>7</td>\n",
       "    </tr>\n",
       "    <tr>\n",
       "      <th>3</th>\n",
       "      <td>chr1</td>\n",
       "      <td>146469</td>\n",
       "      <td>146549</td>\n",
       "      <td>EL_1</td>\n",
       "      <td>5</td>\n",
       "      <td>5</td>\n",
       "      <td>5</td>\n",
       "      <td>5</td>\n",
       "      <td>5</td>\n",
       "      <td>5</td>\n",
       "      <td>...</td>\n",
       "      <td>1</td>\n",
       "      <td>1</td>\n",
       "      <td>1</td>\n",
       "      <td>1</td>\n",
       "      <td>1</td>\n",
       "      <td>1</td>\n",
       "      <td>1</td>\n",
       "      <td>1</td>\n",
       "      <td>1</td>\n",
       "      <td>1</td>\n",
       "    </tr>\n",
       "    <tr>\n",
       "      <th>4</th>\n",
       "      <td>chr1</td>\n",
       "      <td>195371</td>\n",
       "      <td>195451</td>\n",
       "      <td>ref_EL_167060</td>\n",
       "      <td>16</td>\n",
       "      <td>16</td>\n",
       "      <td>16</td>\n",
       "      <td>16</td>\n",
       "      <td>16</td>\n",
       "      <td>16</td>\n",
       "      <td>...</td>\n",
       "      <td>2</td>\n",
       "      <td>2</td>\n",
       "      <td>2</td>\n",
       "      <td>2</td>\n",
       "      <td>2</td>\n",
       "      <td>2</td>\n",
       "      <td>2</td>\n",
       "      <td>2</td>\n",
       "      <td>2</td>\n",
       "      <td>2</td>\n",
       "    </tr>\n",
       "  </tbody>\n",
       "</table>\n",
       "<p>5 rows × 84 columns</p>\n",
       "</div>"
      ],
      "text/plain": [
       "  seqid  wstart    wend             ID   0   1   2   3   4   5  ...  70  71  \\\n",
       "0  chr1   17702   17782  ref_EL_172731  78  77  77  78  77  76  ...   3   3   \n",
       "1  chr1   91589   91669   ref_EL_81828   0   0   0   0   0   0  ...   0   0   \n",
       "2  chr1  135855  135935   ref_EL_89286  30  30  30  31  31  31  ...  13  10   \n",
       "3  chr1  146469  146549           EL_1   5   5   5   5   5   5  ...   1   1   \n",
       "4  chr1  195371  195451  ref_EL_167060  16  16  16  16  16  16  ...   2   2   \n",
       "\n",
       "   72  73  74  75  76  77  78  79  \n",
       "0   3   3   3   3   3   3   3   3  \n",
       "1   0   0   0   0   0   0   0   0  \n",
       "2  10   8   8   8   8   8   8   7  \n",
       "3   1   1   1   1   1   1   1   1  \n",
       "4   2   2   2   2   2   2   2   2  \n",
       "\n",
       "[5 rows x 84 columns]"
      ]
     },
     "execution_count": 4,
     "metadata": {},
     "output_type": "execute_result"
    }
   ],
   "source": [
    "df.head()"
   ]
  },
  {
   "cell_type": "code",
   "execution_count": 5,
   "metadata": {},
   "outputs": [
    {
     "data": {
      "text/plain": [
       "array(['ref_EL_172731', 'ref_EL_81828', 'ref_EL_89286', ...,\n",
       "       'ref_EL_46095', 'ref_EL_90304', 'ref_EL_47363'], dtype=object)"
      ]
     },
     "execution_count": 5,
     "metadata": {},
     "output_type": "execute_result"
    }
   ],
   "source": [
    "df['ID'].unique()"
   ]
  },
  {
   "cell_type": "code",
   "execution_count": 6,
   "metadata": {},
   "outputs": [
    {
     "data": {
      "text/plain": [
       "0    30124\n",
       "1    30122\n",
       "Name: Y, dtype: int64"
      ]
     },
     "execution_count": 6,
     "metadata": {},
     "output_type": "execute_result"
    }
   ],
   "source": [
    "#need to do 3 things - reverse the SL columns, remove low count exons, and make feature column\n",
    "el=df[df['ID'].str.contains('EL')]\n",
    "sl=df[df['ID'].str.contains('SL')]\n",
    "rev_idx= ['seqid','wstart','wend','ID']+list(range(79,-1,-1))\n",
    "sl_rev=sl.loc[:,rev_idx]\n",
    "sl_rev.columns=col_names\n",
    "data=pd.concat([el, sl_rev]).assign(Y= lambda x: (~x['ID'].str.contains('ref')).astype(int))\n",
    "data['Y'].value_counts()"
   ]
  },
  {
   "cell_type": "code",
   "execution_count": 7,
   "metadata": {},
   "outputs": [
    {
     "data": {
      "text/plain": [
       "1    27499\n",
       "0    24043\n",
       "Name: Y, dtype: int64"
      ]
     },
     "execution_count": 7,
     "metadata": {},
     "output_type": "execute_result"
    }
   ],
   "source": [
    "#remove low count exons\n",
    "keep=data.loc[:,list(range(80))].sum(axis=1) >= 80\n",
    "data_exp=data[keep]\n",
    "data_exp['Y'].value_counts()"
   ]
  },
  {
   "cell_type": "code",
   "execution_count": 8,
   "metadata": {},
   "outputs": [],
   "source": [
    "#balance data for now\n",
    "bal=data_exp['Y'].value_counts().min()\n",
    "data_comp=pd.concat([data_exp[data_exp['Y']==1].sample(bal, random_state=420024),data_exp[data_exp['Y']==0].sample(bal, random_state=420024)])"
   ]
  },
  {
   "cell_type": "code",
   "execution_count": 9,
   "metadata": {},
   "outputs": [
    {
     "name": "stdout",
     "output_type": "stream",
     "text": [
      "(48086, 85)\n"
     ]
    },
    {
     "data": {
      "text/plain": [
       "1    24043\n",
       "0    24043\n",
       "Name: Y, dtype: int64"
      ]
     },
     "execution_count": 9,
     "metadata": {},
     "output_type": "execute_result"
    }
   ],
   "source": [
    "print(data_comp.shape)\n",
    "data_comp['Y'].value_counts()"
   ]
  },
  {
   "cell_type": "code",
   "execution_count": 10,
   "metadata": {},
   "outputs": [],
   "source": [
    "# above wrapped into a function for multiple sample use.\n",
    "def pre_process(path, cut_off):\n",
    "    col_names=['seqid', 'wstart','wend','ID']+list(range(80))\n",
    "    df=pd.read_csv(path, sep='\\t', header=None, names=col_names)\n",
    "    el=df[df['ID'].str.contains('EL')]\n",
    "    sl=df[df['ID'].str.contains('SL')]\n",
    "    rev_idx= ['seqid','wstart','wend','ID']+list(range(79,-1,-1))\n",
    "    sl_rev=sl.loc[:,rev_idx]\n",
    "    sl_rev.columns=col_names\n",
    "    data=pd.concat([el, sl_rev]).assign(Y= lambda x: (~x['ID'].str.contains('ref')).astype(int))\n",
    "    keep=data.loc[:,list(range(80))].sum(axis=1) >= cut_off\n",
    "    data_exp=data[keep]\n",
    "    bal=data_exp['Y'].value_counts().min()\n",
    "    data_comp=pd.concat([data_exp[data_exp['Y']==1].sample(bal, random_state=420024), data_exp[data_exp['Y']== 0].sample(bal, random_state=420024)])\n",
    "    return(data_comp)\n",
    "    "
   ]
  },
  {
   "cell_type": "code",
   "execution_count": 16,
   "metadata": {},
   "outputs": [],
   "source": [
    "from sklearn.decomposition import PCA\n",
    "import matplotlib.pyplot as plt\n",
    "import seaborn as sns"
   ]
  },
  {
   "cell_type": "code",
   "execution_count": 33,
   "metadata": {},
   "outputs": [],
   "source": [
    "x_cols=list(range(80))\n",
    "X=data_comp.loc[:,x_cols]\n",
    "Y=data_comp['Y']\n",
    "pca=PCA(n_components=2)\n",
    "pcmat=pca.fit_transform(X)\n",
    "drX=pd.DataFrame(data=pcmat ,columns=['PC1', 'PC2']).assign(lab=Y)"
   ]
  },
  {
   "cell_type": "code",
   "execution_count": 32,
   "metadata": {},
   "outputs": [
    {
     "data": {
      "text/plain": [
       "<matplotlib.axes._subplots.AxesSubplot at 0x10dde75c0>"
      ]
     },
     "execution_count": 32,
     "metadata": {},
     "output_type": "execute_result"
    },
    {
     "data": {
      "image/png": "[encoded data removed]",
      "text/plain": [
       "<Figure size 720x720 with 1 Axes>"
      ]
     },
     "metadata": {
      "needs_background": "light"
     },
     "output_type": "display_data"
    }
   ],
   "source": [
    "plt.figure(figsize=(10,10))\n",
    "sns.scatterplot(data=drX, x='PC1', y='PC2', hue='lab', alpha=.4)"
   ]
  },
  {
   "cell_type": "code",
   "execution_count": 38,
   "metadata": {},
   "outputs": [
    {
     "data": {
      "text/plain": [
       "<matplotlib.axes._subplots.AxesSubplot at 0x10ded8ef0>"
      ]
     },
     "execution_count": 38,
     "metadata": {},
     "output_type": "execute_result"
    },
    {
     "data": {
      "image/png": "[encoded data removed]",
      "text/plain": [
       "<Figure size 720x720 with 1 Axes>"
      ]
     },
     "metadata": {
      "needs_background": "light"
     },
     "output_type": "display_data"
    }
   ],
   "source": [
    "drX=drX.assign(direction=data_comp['ID'].str.contains('EL').astype(int))\n",
    "\n",
    "plt.figure(figsize=(10,10))\n",
    "sns.scatterplot(data=drX, x='PC1', y='PC2', hue='direction', alpha=.4)\n",
    "\n"
   ]
  },
  {
   "cell_type": "code",
   "execution_count": 35,
   "metadata": {},
   "outputs": [
    {
     "data": {
      "text/plain": [
       "array([0.84510364, 0.14251706])"
      ]
     },
     "execution_count": 35,
     "metadata": {},
     "output_type": "execute_result"
    }
   ],
   "source": [
    "pca.explained_variance_ratio_"
   ]
  },
  {
   "cell_type": "markdown",
   "metadata": {},
   "source": [
    "PCA does not look that great,and I didn't boff the labels/ orientation, which leads me to ask, do we really need bp level info? may haps just the averages will work."
   ]
  },
  {
   "cell_type": "code",
   "execution_count": 46,
   "metadata": {},
   "outputs": [],
   "source": [
    "avg_df=(pd.DataFrame({'us_avg': data_comp.loc[:,list(range(40))].mean(axis=1),\n",
    "                      'ds_avg': data_comp.loc[:,list(range(40,80))].mean(axis=1),\n",
    "                      'us_var': data_comp.loc[:,list(range(40))].var(axis=1),\n",
    "                      'ds_var': data_comp.loc[:,list(range(40,80))].var(axis=1),\n",
    "                      'lab' : data_comp['Y']}))"
   ]
  },
  {
   "cell_type": "code",
   "execution_count": 43,
   "metadata": {},
   "outputs": [
    {
     "data": {
      "text/plain": [
       "<matplotlib.axes._subplots.AxesSubplot at 0x1208cfe80>"
      ]
     },
     "execution_count": 43,
     "metadata": {},
     "output_type": "execute_result"
    },
    {
     "data": {
      "image/png": "[encoded data removed]",
      "text/plain": [
       "<Figure size 720x720 with 1 Axes>"
      ]
     },
     "metadata": {
      "needs_background": "light"
     },
     "output_type": "display_data"
    }
   ],
   "source": [
    "plt.figure(figsize=(10,10))\n",
    "sns.scatterplot(data=avg_df, x='us_avg', y='ds_avg', hue='lab', alpha=.4)"
   ]
  },
  {
   "cell_type": "raw",
   "metadata": {},
   "source": [
    "This does separate better than the full base version...\n",
    "\n",
    "So we'll try the following - train models on both the full and average data set(log transform counts?) and see which ones perform better. I'm also going to include a sort of basic performance check by using the same over/threshold classification I was previously using(rip)"
   ]
  },
  {
   "cell_type": "code",
   "execution_count": null,
   "metadata": {},
   "outputs": [],
   "source": []
  }
 ],
 "metadata": {
  "kernelspec": {
   "display_name": "Python [conda env:esp_pyenv]",
   "language": "python",
   "name": "conda-env-esp_pyenv-py"
  },
  "language_info": {
   "codemirror_mode": {
    "name": "ipython",
    "version": 3
   },
   "file_extension": ".py",
   "mimetype": "text/x-python",
   "name": "python",
   "nbconvert_exporter": "python",
   "pygments_lexer": "ipython3",
   "version": "3.6.5"
  }
 },
 "nbformat": 4,
 "nbformat_minor": 2
}
